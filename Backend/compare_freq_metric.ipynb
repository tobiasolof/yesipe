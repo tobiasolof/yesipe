{
 "cells": [
  {
   "cell_type": "code",
   "execution_count": 1,
   "metadata": {},
   "outputs": [
    {
     "name": "stderr",
     "output_type": "stream",
     "text": [
      "/Library/Frameworks/Python.framework/Versions/3.6/lib/python3.6/importlib/_bootstrap.py:219: RuntimeWarning: numpy.dtype size changed, may indicate binary incompatibility. Expected 96, got 88\n",
      "  return f(*args, **kwds)\n",
      "/Library/Frameworks/Python.framework/Versions/3.6/lib/python3.6/importlib/_bootstrap.py:219: RuntimeWarning: numpy.dtype size changed, may indicate binary incompatibility. Expected 96, got 88\n",
      "  return f(*args, **kwds)\n"
     ]
    }
   ],
   "source": [
    "import numpy as np\n",
    "import pandas as pd\n",
    "import pickle"
   ]
  },
  {
   "cell_type": "code",
   "execution_count": 2,
   "metadata": {},
   "outputs": [],
   "source": [
    "master_df = pd.read_pickle('data/master_df.pkl')\n",
    "freq_df = pd.read_pickle('data/freq_df.pkl')\n",
    "blacklist = open('data/blacklist').read().lower().split('\\n')"
   ]
  },
  {
   "cell_type": "code",
   "execution_count": 3,
   "metadata": {},
   "outputs": [],
   "source": [
    "freq_series = freq_df.max(axis=1)"
   ]
  },
  {
   "cell_type": "code",
   "execution_count": 4,
   "metadata": {},
   "outputs": [],
   "source": [
    "chosen = ['sparris', 'pasta', 'tomater', 'lök']"
   ]
  },
  {
   "cell_type": "code",
   "execution_count": 5,
   "metadata": {},
   "outputs": [
    {
     "data": {
      "text/plain": [
       "bambuspett                         2.0\n",
       "hela skalade tomater i tomatsås    2.0\n",
       "italienska örter                   2.0\n",
       "veggiebitar                        2.0\n",
       "kastanjer                          2.0\n",
       "kebabsås                           2.0\n",
       "rimmat stekfläsk                   2.0\n",
       "vongole                            1.5\n",
       "spickeskinka                       1.5\n",
       "vinblad                            1.5\n",
       "dtype: float64"
      ]
     },
     "execution_count": 5,
     "metadata": {},
     "output_type": "execute_result"
    }
   ],
   "source": [
    "# All recipes weighted by number of chosen\n",
    "aa = master_df.ingredients.apply(lambda x: len(set(x).intersection(chosen)))\n",
    "a = pd.Series([i for j in master_df.ingredients * aa for i in j]).value_counts()\n",
    "a.divide(freq_series).dropna().sort_values(ascending=False).head(10)"
   ]
  },
  {
   "cell_type": "code",
   "execution_count": 6,
   "metadata": {},
   "outputs": [
    {
     "data": {
      "text/plain": [
       "salt           3124\n",
       "tomater        2713\n",
       "vitlök         1789\n",
       "olivolja       1713\n",
       "svartpeppar    1325\n",
       "peppar         1286\n",
       "gul lök         954\n",
       "vatten          784\n",
       "smör            779\n",
       "citron          706\n",
       "dtype: int64"
      ]
     },
     "execution_count": 6,
     "metadata": {},
     "output_type": "execute_result"
    }
   ],
   "source": [
    "a = pd.Series([i for j in master_df[master_df.ingredients.apply(lambda x: any(i in x for i in chosen))].ingredients for i in j]).value_counts()\n",
    "a.head(10)"
   ]
  },
  {
   "cell_type": "code",
   "execution_count": 7,
   "metadata": {},
   "outputs": [
    {
     "data": {
      "text/plain": [
       "lök              0.972789\n",
       "sparris          0.960714\n",
       "tomater          0.915008\n",
       "hamburgerbröd    0.666667\n",
       "oliver           0.583051\n",
       "dtype: float64"
      ]
     },
     "execution_count": 7,
     "metadata": {},
     "output_type": "execute_result"
    }
   ],
   "source": [
    "min_count = 100\n",
    "b = pd.Series()\n",
    "for ingr, count in a.items():\n",
    "    b[ingr]= count/freq_df.loc[ingr, ingr] * int(freq_series[ingr] >= min_count)\n",
    "b.sort_values(ascending=False).head()"
   ]
  },
  {
   "cell_type": "code",
   "execution_count": 8,
   "metadata": {},
   "outputs": [
    {
     "data": {
      "text/plain": [
       "salt           253\n",
       "varmrätt       177\n",
       "olivolja       149\n",
       "svartpeppar    116\n",
       "peppar         107\n",
       "koka            90\n",
       "citron          83\n",
       "smör            77\n",
       "vitlök          76\n",
       "i ugn           69\n",
       "dtype: int64"
      ]
     },
     "execution_count": 8,
     "metadata": {},
     "output_type": "execute_result"
    }
   ],
   "source": [
    "freq_df.loc[chosen].min().sort_values(ascending=False).head(10)"
   ]
  },
  {
   "cell_type": "code",
   "execution_count": 9,
   "metadata": {},
   "outputs": [
    {
     "data": {
      "text/plain": [
       "bondbönor              0.104167\n",
       "matlagningsvin         0.068966\n",
       "kronärtskockshjärta    0.050000\n",
       "chilipasta             0.050000\n",
       "sockerärtor            0.048387\n",
       "dtype: float64"
      ]
     },
     "execution_count": 9,
     "metadata": {},
     "output_type": "execute_result"
    }
   ],
   "source": [
    "bias = 10\n",
    "freq_df.loc[chosen].min(axis=0).divide(freq_df.max(1) + bias).sort_values(ascending=False).head()"
   ]
  },
  {
   "cell_type": "code",
   "execution_count": 10,
   "metadata": {},
   "outputs": [
    {
     "data": {
      "text/plain": [
       "lingon        0.390476\n",
       "viltfärs      0.136364\n",
       "messmör       0.130435\n",
       "fläsk         0.111111\n",
       "idealmjöl     0.107143\n",
       "sugarsnaps    0.100000\n",
       "kalvfärs      0.089286\n",
       "älgfärs       0.087719\n",
       "enbär         0.079646\n",
       "skavkött      0.076923\n",
       "dtype: float64"
      ]
     },
     "execution_count": 10,
     "metadata": {},
     "output_type": "execute_result"
    }
   ],
   "source": [
    "def suggest(chosen, bias=10):\n",
    "    return freq_df.loc[chosen].min(axis=0).divide(freq_df.max(1) + bias).dropna().sort_values(ascending=False)\n",
    "\n",
    "suggest(['lingon', 'potatis', 'grädde']).head(10)"
   ]
  }
 ],
 "metadata": {
  "kernelspec": {
   "display_name": "Python 3",
   "language": "python",
   "name": "python3"
  },
  "language_info": {
   "codemirror_mode": {
    "name": "ipython",
    "version": 3
   },
   "file_extension": ".py",
   "mimetype": "text/x-python",
   "name": "python",
   "nbconvert_exporter": "python",
   "pygments_lexer": "ipython3",
   "version": "3.6.4"
  }
 },
 "nbformat": 4,
 "nbformat_minor": 2
}
